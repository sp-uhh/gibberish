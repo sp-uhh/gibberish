{
 "cells": [
  {
   "cell_type": "code",
   "execution_count": null,
   "id": "80344ad7",
   "metadata": {},
   "outputs": [],
   "source": [
    "!pip install matplotlib seaborn pandas"
   ]
  },
  {
   "cell_type": "code",
   "execution_count": null,
   "id": "480be2b2",
   "metadata": {},
   "outputs": [],
   "source": [
    "import pandas as pd\n",
    "\n",
    "groups = ['clean', 'gibberish', 'noisy']"
   ]
  },
  {
   "cell_type": "code",
   "execution_count": null,
   "id": "41e4b4cf",
   "metadata": {},
   "outputs": [],
   "source": [
    "from collections import OrderedDict\n",
    "\n",
    "def merge_dfs(metric, metric_column=None):\n",
    "    metric_column = metric if metric_column is None else metric_column\n",
    "\n",
    "    df_clean = pd.read_csv(f'results/{metric}_earswham_clean.csv').rename(columns={metric_column: f'{metric_column}_clean'})[['filename', f'{metric_column}_clean']]\n",
    "    df_gibberish = pd.read_csv(f'results/{metric}_earswham_gibberish.csv').rename(columns={metric_column: f'{metric_column}_gibberish'})[['filename', f'{metric_column}_gibberish']]\n",
    "    df_noisy = pd.read_csv(f'results/{metric}_earswham_noisy.csv').rename(columns={metric_column: f'{metric_column}_noisy'})[['filename', f'{metric_column}_noisy']]\n",
    "    df_noisy['filename'] = df_noisy['filename'].str.split('_').str[0] + '.wav'\n",
    "\n",
    "    df_metric = pd.merge(pd.merge(df_clean, df_noisy, on='filename'), df_gibberish, on='filename')\n",
    "    df_metric.to_csv(f'results/{metric_column.rstrip(\"_log_ppl\")}_earswham.csv', index=False)\n",
    "    \n",
    "    assert df_clean.shape[0] == df_metric.shape[0]\n",
    "\n",
    "def concat_dfs(metric, metric_column=None):\n",
    "    metric_column = metric if metric_column is None else metric_column\n",
    "\n",
    "    df_gibberish = pd.read_csv(f'results/{metric}_earswham_gibberish.csv')[['filename', metric_column]]\n",
    "    df_gibberish['subset'] = 'Gibberish'\n",
    "    df_clean = pd.read_csv(f'results/{metric}_earswham_clean.csv')[['filename', metric_column]]\n",
    "    df_clean['subset'] = 'Clean'\n",
    "    df_noisy = pd.read_csv(f'results/{metric}_earswham_noisy.csv')[['filename', metric_column]]\n",
    "    df_noisy['filename'] = df_noisy['filename'].str.split('_').str[0] + '.wav'\n",
    "    df_noisy['subset'] = 'Noisy'\n",
    "\n",
    "    df_metric = pd.concat([df_gibberish, df_clean, df_noisy], axis=0)\n",
    "    df_metric.to_csv(f'results/{metric_column.rstrip(\"_log_ppl\")}_earswham.csv', index=False)\n",
    "\n",
    "metrics_dict = OrderedDict([\n",
    "    ('twist_log_ppl', 'twist'),\n",
    "    ('speechlmscore', 'speechlmscore'),\n",
    "    ('parakeet_gpt2_log_ppl', 'parakeet_gpt2'),\n",
    "    ('quartznet_gpt2_log_ppl', 'quartznet_gpt2'),\n",
    "    ('distillmos', 'dnnmos'),\n",
    "    ('utmosv2', 'dnnmos'),\n",
    "])\n",
    "\n",
    "for metric_column, metric in metrics_dict.items():\n",
    "    concat_dfs(metric, metric_column)\n"
   ]
  },
  {
   "cell_type": "code",
   "execution_count": null,
   "id": "7492e135",
   "metadata": {},
   "outputs": [],
   "source": [
    "import math\n",
    "import matplotlib.pyplot as plt\n",
    "import seaborn as sns\n",
    "\n",
    "metrics_names = {\n",
    "    'speechlmscore': 'SpeechLMScore (6) ↓', \n",
    "    'twist_log_ppl': 'TWIST log-perplexity ↓', \n",
    "    'parakeet_gpt2_log_ppl': 'Parakeet + GPT2 log-perplexity ↓', \n",
    "    'quartznet_gpt2_log_ppl': 'QuartzNet + GPT2 log-perplexity ↓',\n",
    "    'utmosv2': 'UTMOSv2 ↑', \n",
    "    'distillmos': 'DistillMOS ↑',\n",
    "}\n",
    "\n",
    "ncols = 2\n",
    "fig, axes = plt.subplots(nrows=math.ceil(len(metrics_dict)/ncols), ncols=ncols, figsize=(8, 10))\n",
    "\n",
    "for i, metric_column in enumerate(metrics_dict.keys()):\n",
    "    metric = metric_column.rstrip(\"_log_ppl\")\n",
    "    df = pd.read_csv(f'results/{metric}_earswham.csv')\n",
    "    \n",
    "    sns.boxplot(data=df, y=metric_column, hue=\"subset\", ax=axes.ravel()[i])\n",
    "    axes.ravel()[i].set(xlabel=metrics_names[metric_column])\n",
    "    if metric_column in ('parakeet_gpt2_log_ppl', 'quartznet_gpt2_log_ppl'):\n",
    "        axes.ravel()[i].set_ylim(0, 10)\n",
    "    elif metric_column in ('distillmos', 'utmosv2'):\n",
    "        axes.ravel()[i].set_ylim(0, 5)\n",
    "    elif metric_column in ('twist_log_ppl', 'speechlmscore'):\n",
    "        axes.ravel()[i].set_ylim(0, 3.5)\n",
    "\n",
    "    if i != ncols - 1:\n",
    "        axes.ravel()[i].get_legend().set_visible(False)\n",
    "    else:\n",
    "        axes.ravel()[i].get_legend().set_title(None)\n",
    "    axes.ravel()[i].set(ylabel=None)\n",
    "\n",
    "fig.tight_layout()\n",
    "fig.savefig('boxplot.png', bbox_inches='tight', pad_inches=0.1)"
   ]
  },
  {
   "cell_type": "code",
   "execution_count": null,
   "id": "a256aa91",
   "metadata": {},
   "outputs": [],
   "source": []
  }
 ],
 "metadata": {
  "kernelspec": {
   "display_name": ".env",
   "language": "python",
   "name": "python3"
  },
  "language_info": {
   "codemirror_mode": {
    "name": "ipython",
    "version": 3
   },
   "file_extension": ".py",
   "mimetype": "text/x-python",
   "name": "python",
   "nbconvert_exporter": "python",
   "pygments_lexer": "ipython3",
   "version": "3.11.2"
  }
 },
 "nbformat": 4,
 "nbformat_minor": 5
}
